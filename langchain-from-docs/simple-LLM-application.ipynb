{
 "cells": [
  {
   "cell_type": "markdown",
   "id": "92e0eaf0",
   "metadata": {},
   "source": [
    "# Build a simple LLM application with chat models and prompt templates"
   ]
  },
  {
   "cell_type": "markdown",
   "id": "e2f85ecf",
   "metadata": {},
   "source": [
    "# https://python.langchain.com/docs/tutorials/llm_chain/"
   ]
  },
  {
   "cell_type": "code",
   "execution_count": null,
   "id": "86f88bac",
   "metadata": {},
   "outputs": [],
   "source": [
    "!pip install -U langchain langchain-openai\n",
    "!pip install -U langchain_experimental"
   ]
  },
  {
   "cell_type": "code",
   "execution_count": 1,
   "id": "8a389966",
   "metadata": {},
   "outputs": [],
   "source": [
    "from secrets_langchain import LANGSMITH_TRACING, LANGSMITH_API_KEY, LANGSMITH_PROJECT, OPENAI_API_KEY\n",
    "import os\n",
    "os.environ[\"LANGSMITH_TRACING\"] = LANGSMITH_TRACING\n",
    "os.environ[\"LANGSMITH_API_KEY\"] = LANGSMITH_API_KEY\n",
    "os.environ[\"LANGSMITH_PROJECT\"] = LANGSMITH_PROJECT\n",
    "os.environ[\"OPENAI_API_KEY\"] = OPENAI_API_KEY  # Replace with your actual OpenAI API key"
   ]
  },
  {
   "cell_type": "code",
   "execution_count": 2,
   "id": "435fa635",
   "metadata": {},
   "outputs": [],
   "source": [
    "import getpass\n",
    "import os\n",
    "\n",
    "try:\n",
    "    # load environment variables from .env file (requires `python-dotenv`)\n",
    "    from dotenv import load_dotenv\n",
    "\n",
    "    load_dotenv()\n",
    "except ImportError:\n",
    "    pass\n",
    "\n",
    "os.environ[\"LANGSMITH_TRACING\"] = \"true\"\n",
    "if \"LANGSMITH_API_KEY\" not in os.environ:\n",
    "    os.environ[\"LANGSMITH_API_KEY\"] = getpass.getpass(\n",
    "        prompt=\"Enter your LangSmith API key (optional): \"\n",
    "    )\n",
    "if \"LANGSMITH_PROJECT\" not in os.environ:\n",
    "    os.environ[\"LANGSMITH_PROJECT\"] = getpass.getpass(\n",
    "        prompt='Enter your LangSmith Project Name (default = \"default\"): '\n",
    "    )\n",
    "    if not os.environ.get(\"LANGSMITH_PROJECT\"):\n",
    "        os.environ[\"LANGSMITH_PROJECT\"] = \"default\""
   ]
  },
  {
   "cell_type": "markdown",
   "id": "0e2e13a8",
   "metadata": {},
   "source": []
  },
  {
   "cell_type": "code",
   "execution_count": 3,
   "id": "24758ff0",
   "metadata": {},
   "outputs": [],
   "source": [
    "import getpass\n",
    "import os\n",
    "\n",
    "if not os.environ.get(\"OPENAI_API_KEY\"):\n",
    "  os.environ[\"OPENAI_API_KEY\"] = getpass.getpass(\"Enter API key for OpenAI: \")\n",
    "\n",
    "from langchain.chat_models import init_chat_model\n",
    "\n",
    "model = init_chat_model(\"gpt-4o-mini\", model_provider=\"openai\")"
   ]
  },
  {
   "cell_type": "code",
   "execution_count": 5,
   "id": "366a8210",
   "metadata": {},
   "outputs": [
    {
     "data": {
      "text/plain": [
       "AIMessage(content='Willkommen beim LangChain Python API-Referenz. Dies ist eine Referenz für alle langchain-x Pakete.', additional_kwargs={'refusal': None}, response_metadata={'token_usage': {'completion_tokens': 24, 'prompt_tokens': 38, 'total_tokens': 62, 'completion_tokens_details': {'accepted_prediction_tokens': 0, 'audio_tokens': 0, 'reasoning_tokens': 0, 'rejected_prediction_tokens': 0}, 'prompt_tokens_details': {'audio_tokens': 0, 'cached_tokens': 0}}, 'model_name': 'gpt-4o-mini-2024-07-18', 'system_fingerprint': 'fp_34a54ae93c', 'id': 'chatcmpl-BqglBQzAHPNQERodR82FgVWqwZRTl', 'service_tier': 'default', 'finish_reason': 'stop', 'logprobs': None}, id='run--bb0c7a83-016c-4be1-8e7a-16f50a2a3068-0', usage_metadata={'input_tokens': 38, 'output_tokens': 24, 'total_tokens': 62, 'input_token_details': {'audio': 0, 'cache_read': 0}, 'output_token_details': {'audio': 0, 'reasoning': 0}})"
      ]
     },
     "execution_count": 5,
     "metadata": {},
     "output_type": "execute_result"
    }
   ],
   "source": [
    "from langchain_core.messages import HumanMessage, SystemMessage\n",
    "\n",
    "messages = [\n",
    "    SystemMessage(\"Translate the following from English into German\"),\n",
    "    # HumanMessage(\"Hello, how are you? I hope you are having a great day!\"),\n",
    "    HumanMessage(\"Welcome to the LangChain Python API reference. This is a reference for all langchain-x packages.\"),\n",
    "]\n",
    "\n",
    "model.invoke(messages)"
   ]
  },
  {
   "cell_type": "code",
   "execution_count": 6,
   "id": "8998c557",
   "metadata": {},
   "outputs": [
    {
     "data": {
      "text/plain": [
       "AIMessage(content='Hello! How can I assist you today?', additional_kwargs={'refusal': None}, response_metadata={'token_usage': {'completion_tokens': 9, 'prompt_tokens': 8, 'total_tokens': 17, 'completion_tokens_details': {'accepted_prediction_tokens': 0, 'audio_tokens': 0, 'reasoning_tokens': 0, 'rejected_prediction_tokens': 0}, 'prompt_tokens_details': {'audio_tokens': 0, 'cached_tokens': 0}}, 'model_name': 'gpt-4o-mini-2024-07-18', 'system_fingerprint': 'fp_34a54ae93c', 'id': 'chatcmpl-Bqgp0Gg9Ti6FkT96zf2PZm3hHbgH6', 'service_tier': 'default', 'finish_reason': 'stop', 'logprobs': None}, id='run--57e20a47-aac8-4e3b-9418-a3e7fe6312f1-0', usage_metadata={'input_tokens': 8, 'output_tokens': 9, 'total_tokens': 17, 'input_token_details': {'audio': 0, 'cache_read': 0}, 'output_token_details': {'audio': 0, 'reasoning': 0}})"
      ]
     },
     "execution_count": 6,
     "metadata": {},
     "output_type": "execute_result"
    }
   ],
   "source": [
    "model.invoke(\"Hello\")\n",
    "\n",
    "model.invoke([{\"role\": \"user\", \"content\": \"Hello\"}])\n",
    "\n",
    "model.invoke([HumanMessage(\"Hello\")])"
   ]
  },
  {
   "cell_type": "code",
   "execution_count": 8,
   "id": "157b3111",
   "metadata": {},
   "outputs": [
    {
     "name": "stdout",
     "output_type": "stream",
     "text": [
      "|Will|kommen| zur| Lang|Chain| Python| API|-|Refer|enz|.| Dies| ist| ein| Refer|enz|d|okument| für| alle| lang|chain|-x| Pak|ete|.||"
     ]
    }
   ],
   "source": [
    "#Streaming\n",
    "\n",
    "for token in model.stream(messages):\n",
    "    print(token.content, end=\"|\")"
   ]
  },
  {
   "cell_type": "code",
   "execution_count": 10,
   "id": "4ec4eb2a",
   "metadata": {},
   "outputs": [],
   "source": [
    "import getpass\n",
    "import os\n",
    "\n",
    "if not os.environ.get(\"OPENAI_API_KEY\"):\n",
    "  os.environ[\"OPENAI_API_KEY\"] = getpass.getpass(\"Enter API key for OpenAI: \")\n",
    "\n",
    "from langchain.chat_models import init_chat_model\n",
    "\n",
    "model = init_chat_model(\"gpt-4o-mini\", model_provider=\"openai\")"
   ]
  },
  {
   "cell_type": "code",
   "execution_count": 11,
   "id": "ba2585c0",
   "metadata": {},
   "outputs": [
    {
     "data": {
      "text/plain": [
       "AIMessage(content='Hello! How can I assist you today?', additional_kwargs={'refusal': None}, response_metadata={'token_usage': {'completion_tokens': 9, 'prompt_tokens': 11, 'total_tokens': 20, 'completion_tokens_details': {'accepted_prediction_tokens': 0, 'audio_tokens': 0, 'reasoning_tokens': 0, 'rejected_prediction_tokens': 0}, 'prompt_tokens_details': {'audio_tokens': 0, 'cached_tokens': 0}}, 'model_name': 'gpt-4o-mini-2024-07-18', 'system_fingerprint': 'fp_34a54ae93c', 'id': 'chatcmpl-BqgtDpQlMOQMCjIjvxWZvwbSWS1fS', 'service_tier': 'default', 'finish_reason': 'stop', 'logprobs': None}, id='run--f5186d92-11a8-47c8-9e56-b6197e362c09-0', usage_metadata={'input_tokens': 11, 'output_tokens': 9, 'total_tokens': 20, 'input_token_details': {'audio': 0, 'cache_read': 0}, 'output_token_details': {'audio': 0, 'reasoning': 0}})"
      ]
     },
     "execution_count": 11,
     "metadata": {},
     "output_type": "execute_result"
    }
   ],
   "source": [
    "model.invoke(\"Hello, world!\")"
   ]
  },
  {
   "cell_type": "code",
   "execution_count": 13,
   "id": "6e3b8024",
   "metadata": {},
   "outputs": [
    {
     "name": "stdout",
     "output_type": "stream",
     "text": [
      "Collecting langchain_experimental\n",
      "  Downloading langchain_experimental-0.3.4-py3-none-any.whl (209 kB)\n",
      "     ---------------------------------------- 0.0/209.2 kB ? eta -:--:--\n",
      "     -------------------------------------  204.8/209.2 kB 6.3 MB/s eta 0:00:01\n",
      "     -------------------------------------- 209.2/209.2 kB 6.4 MB/s eta 0:00:00\n",
      "Requirement already satisfied: langchain-community<0.4.0,>=0.3.0 in i:\\programming projects\\langchain_crash_course\\restaurantnamegenerator\\myenv\\lib\\site-packages (from langchain_experimental) (0.3.27)\n",
      "Requirement already satisfied: langchain-core<0.4.0,>=0.3.28 in i:\\programming projects\\langchain_crash_course\\restaurantnamegenerator\\myenv\\lib\\site-packages (from langchain_experimental) (0.3.68)\n",
      "Requirement already satisfied: aiohttp<4.0.0,>=3.8.3 in i:\\programming projects\\langchain_crash_course\\restaurantnamegenerator\\myenv\\lib\\site-packages (from langchain-community<0.4.0,>=0.3.0->langchain_experimental) (3.12.13)\n",
      "Requirement already satisfied: numpy>=1.26.2 in i:\\programming projects\\langchain_crash_course\\restaurantnamegenerator\\myenv\\lib\\site-packages (from langchain-community<0.4.0,>=0.3.0->langchain_experimental) (2.2.6)\n",
      "Requirement already satisfied: httpx-sse<1.0.0,>=0.4.0 in i:\\programming projects\\langchain_crash_course\\restaurantnamegenerator\\myenv\\lib\\site-packages (from langchain-community<0.4.0,>=0.3.0->langchain_experimental) (0.4.1)\n",
      "Requirement already satisfied: dataclasses-json<0.7,>=0.5.7 in i:\\programming projects\\langchain_crash_course\\restaurantnamegenerator\\myenv\\lib\\site-packages (from langchain-community<0.4.0,>=0.3.0->langchain_experimental) (0.6.7)\n",
      "Requirement already satisfied: pydantic-settings<3.0.0,>=2.4.0 in i:\\programming projects\\langchain_crash_course\\restaurantnamegenerator\\myenv\\lib\\site-packages (from langchain-community<0.4.0,>=0.3.0->langchain_experimental) (2.10.1)\n",
      "Requirement already satisfied: PyYAML>=5.3 in i:\\programming projects\\langchain_crash_course\\restaurantnamegenerator\\myenv\\lib\\site-packages (from langchain-community<0.4.0,>=0.3.0->langchain_experimental) (6.0.2)\n",
      "Requirement already satisfied: tenacity!=8.4.0,<10,>=8.1.0 in i:\\programming projects\\langchain_crash_course\\restaurantnamegenerator\\myenv\\lib\\site-packages (from langchain-community<0.4.0,>=0.3.0->langchain_experimental) (9.1.2)\n",
      "Requirement already satisfied: langsmith>=0.1.125 in i:\\programming projects\\langchain_crash_course\\restaurantnamegenerator\\myenv\\lib\\site-packages (from langchain-community<0.4.0,>=0.3.0->langchain_experimental) (0.4.4)\n",
      "Requirement already satisfied: SQLAlchemy<3,>=1.4 in i:\\programming projects\\langchain_crash_course\\restaurantnamegenerator\\myenv\\lib\\site-packages (from langchain-community<0.4.0,>=0.3.0->langchain_experimental) (2.0.41)\n",
      "Requirement already satisfied: requests<3,>=2 in i:\\programming projects\\langchain_crash_course\\restaurantnamegenerator\\myenv\\lib\\site-packages (from langchain-community<0.4.0,>=0.3.0->langchain_experimental) (2.32.4)\n",
      "Requirement already satisfied: langchain<1.0.0,>=0.3.26 in i:\\programming projects\\langchain_crash_course\\restaurantnamegenerator\\myenv\\lib\\site-packages (from langchain-community<0.4.0,>=0.3.0->langchain_experimental) (0.3.26)\n",
      "Requirement already satisfied: packaging<25,>=23.2 in i:\\programming projects\\langchain_crash_course\\restaurantnamegenerator\\myenv\\lib\\site-packages (from langchain-core<0.4.0,>=0.3.28->langchain_experimental) (24.2)\n",
      "Requirement already satisfied: jsonpatch<2.0,>=1.33 in i:\\programming projects\\langchain_crash_course\\restaurantnamegenerator\\myenv\\lib\\site-packages (from langchain-core<0.4.0,>=0.3.28->langchain_experimental) (1.33)\n",
      "Requirement already satisfied: pydantic>=2.7.4 in i:\\programming projects\\langchain_crash_course\\restaurantnamegenerator\\myenv\\lib\\site-packages (from langchain-core<0.4.0,>=0.3.28->langchain_experimental) (2.11.7)\n",
      "Requirement already satisfied: typing-extensions>=4.7 in i:\\programming projects\\langchain_crash_course\\restaurantnamegenerator\\myenv\\lib\\site-packages (from langchain-core<0.4.0,>=0.3.28->langchain_experimental) (4.14.1)\n",
      "Requirement already satisfied: propcache>=0.2.0 in i:\\programming projects\\langchain_crash_course\\restaurantnamegenerator\\myenv\\lib\\site-packages (from aiohttp<4.0.0,>=3.8.3->langchain-community<0.4.0,>=0.3.0->langchain_experimental) (0.3.2)\n",
      "Requirement already satisfied: multidict<7.0,>=4.5 in i:\\programming projects\\langchain_crash_course\\restaurantnamegenerator\\myenv\\lib\\site-packages (from aiohttp<4.0.0,>=3.8.3->langchain-community<0.4.0,>=0.3.0->langchain_experimental) (6.6.3)\n",
      "Requirement already satisfied: async-timeout<6.0,>=4.0 in i:\\programming projects\\langchain_crash_course\\restaurantnamegenerator\\myenv\\lib\\site-packages (from aiohttp<4.0.0,>=3.8.3->langchain-community<0.4.0,>=0.3.0->langchain_experimental) (4.0.3)\n",
      "Requirement already satisfied: aiosignal>=1.1.2 in i:\\programming projects\\langchain_crash_course\\restaurantnamegenerator\\myenv\\lib\\site-packages (from aiohttp<4.0.0,>=3.8.3->langchain-community<0.4.0,>=0.3.0->langchain_experimental) (1.4.0)\n",
      "Requirement already satisfied: yarl<2.0,>=1.17.0 in i:\\programming projects\\langchain_crash_course\\restaurantnamegenerator\\myenv\\lib\\site-packages (from aiohttp<4.0.0,>=3.8.3->langchain-community<0.4.0,>=0.3.0->langchain_experimental) (1.20.1)\n",
      "Requirement already satisfied: attrs>=17.3.0 in i:\\programming projects\\langchain_crash_course\\restaurantnamegenerator\\myenv\\lib\\site-packages (from aiohttp<4.0.0,>=3.8.3->langchain-community<0.4.0,>=0.3.0->langchain_experimental) (25.3.0)\n",
      "Requirement already satisfied: frozenlist>=1.1.1 in i:\\programming projects\\langchain_crash_course\\restaurantnamegenerator\\myenv\\lib\\site-packages (from aiohttp<4.0.0,>=3.8.3->langchain-community<0.4.0,>=0.3.0->langchain_experimental) (1.7.0)\n",
      "Requirement already satisfied: aiohappyeyeballs>=2.5.0 in i:\\programming projects\\langchain_crash_course\\restaurantnamegenerator\\myenv\\lib\\site-packages (from aiohttp<4.0.0,>=3.8.3->langchain-community<0.4.0,>=0.3.0->langchain_experimental) (2.6.1)\n",
      "Requirement already satisfied: typing-inspect<1,>=0.4.0 in i:\\programming projects\\langchain_crash_course\\restaurantnamegenerator\\myenv\\lib\\site-packages (from dataclasses-json<0.7,>=0.5.7->langchain-community<0.4.0,>=0.3.0->langchain_experimental) (0.9.0)\n",
      "Requirement already satisfied: marshmallow<4.0.0,>=3.18.0 in i:\\programming projects\\langchain_crash_course\\restaurantnamegenerator\\myenv\\lib\\site-packages (from dataclasses-json<0.7,>=0.5.7->langchain-community<0.4.0,>=0.3.0->langchain_experimental) (3.26.1)\n",
      "Requirement already satisfied: jsonpointer>=1.9 in i:\\programming projects\\langchain_crash_course\\restaurantnamegenerator\\myenv\\lib\\site-packages (from jsonpatch<2.0,>=1.33->langchain-core<0.4.0,>=0.3.28->langchain_experimental) (3.0.0)\n",
      "Requirement already satisfied: langchain-text-splitters<1.0.0,>=0.3.8 in i:\\programming projects\\langchain_crash_course\\restaurantnamegenerator\\myenv\\lib\\site-packages (from langchain<1.0.0,>=0.3.26->langchain-community<0.4.0,>=0.3.0->langchain_experimental) (0.3.8)\n",
      "Requirement already satisfied: zstandard<0.24.0,>=0.23.0 in i:\\programming projects\\langchain_crash_course\\restaurantnamegenerator\\myenv\\lib\\site-packages (from langsmith>=0.1.125->langchain-community<0.4.0,>=0.3.0->langchain_experimental) (0.23.0)\n",
      "Requirement already satisfied: requests-toolbelt<2.0.0,>=1.0.0 in i:\\programming projects\\langchain_crash_course\\restaurantnamegenerator\\myenv\\lib\\site-packages (from langsmith>=0.1.125->langchain-community<0.4.0,>=0.3.0->langchain_experimental) (1.0.0)\n",
      "Requirement already satisfied: orjson<4.0.0,>=3.9.14 in i:\\programming projects\\langchain_crash_course\\restaurantnamegenerator\\myenv\\lib\\site-packages (from langsmith>=0.1.125->langchain-community<0.4.0,>=0.3.0->langchain_experimental) (3.10.18)\n",
      "Requirement already satisfied: httpx<1,>=0.23.0 in i:\\programming projects\\langchain_crash_course\\restaurantnamegenerator\\myenv\\lib\\site-packages (from langsmith>=0.1.125->langchain-community<0.4.0,>=0.3.0->langchain_experimental) (0.28.1)\n",
      "Requirement already satisfied: pydantic-core==2.33.2 in i:\\programming projects\\langchain_crash_course\\restaurantnamegenerator\\myenv\\lib\\site-packages (from pydantic>=2.7.4->langchain-core<0.4.0,>=0.3.28->langchain_experimental) (2.33.2)\n",
      "Requirement already satisfied: annotated-types>=0.6.0 in i:\\programming projects\\langchain_crash_course\\restaurantnamegenerator\\myenv\\lib\\site-packages (from pydantic>=2.7.4->langchain-core<0.4.0,>=0.3.28->langchain_experimental) (0.7.0)\n",
      "Requirement already satisfied: typing-inspection>=0.4.0 in i:\\programming projects\\langchain_crash_course\\restaurantnamegenerator\\myenv\\lib\\site-packages (from pydantic>=2.7.4->langchain-core<0.4.0,>=0.3.28->langchain_experimental) (0.4.1)\n",
      "Requirement already satisfied: python-dotenv>=0.21.0 in i:\\programming projects\\langchain_crash_course\\restaurantnamegenerator\\myenv\\lib\\site-packages (from pydantic-settings<3.0.0,>=2.4.0->langchain-community<0.4.0,>=0.3.0->langchain_experimental) (1.1.1)\n",
      "Requirement already satisfied: urllib3<3,>=1.21.1 in i:\\programming projects\\langchain_crash_course\\restaurantnamegenerator\\myenv\\lib\\site-packages (from requests<3,>=2->langchain-community<0.4.0,>=0.3.0->langchain_experimental) (2.5.0)\n",
      "Requirement already satisfied: charset_normalizer<4,>=2 in i:\\programming projects\\langchain_crash_course\\restaurantnamegenerator\\myenv\\lib\\site-packages (from requests<3,>=2->langchain-community<0.4.0,>=0.3.0->langchain_experimental) (3.4.2)\n",
      "Requirement already satisfied: certifi>=2017.4.17 in i:\\programming projects\\langchain_crash_course\\restaurantnamegenerator\\myenv\\lib\\site-packages (from requests<3,>=2->langchain-community<0.4.0,>=0.3.0->langchain_experimental) (2025.6.15)\n",
      "Requirement already satisfied: idna<4,>=2.5 in i:\\programming projects\\langchain_crash_course\\restaurantnamegenerator\\myenv\\lib\\site-packages (from requests<3,>=2->langchain-community<0.4.0,>=0.3.0->langchain_experimental) (3.10)\n",
      "Requirement already satisfied: greenlet>=1 in i:\\programming projects\\langchain_crash_course\\restaurantnamegenerator\\myenv\\lib\\site-packages (from SQLAlchemy<3,>=1.4->langchain-community<0.4.0,>=0.3.0->langchain_experimental) (3.2.3)\n",
      "Requirement already satisfied: anyio in i:\\programming projects\\langchain_crash_course\\restaurantnamegenerator\\myenv\\lib\\site-packages (from httpx<1,>=0.23.0->langsmith>=0.1.125->langchain-community<0.4.0,>=0.3.0->langchain_experimental) (4.9.0)\n",
      "Requirement already satisfied: httpcore==1.* in i:\\programming projects\\langchain_crash_course\\restaurantnamegenerator\\myenv\\lib\\site-packages (from httpx<1,>=0.23.0->langsmith>=0.1.125->langchain-community<0.4.0,>=0.3.0->langchain_experimental) (1.0.9)\n",
      "Requirement already satisfied: h11>=0.16 in i:\\programming projects\\langchain_crash_course\\restaurantnamegenerator\\myenv\\lib\\site-packages (from httpcore==1.*->httpx<1,>=0.23.0->langsmith>=0.1.125->langchain-community<0.4.0,>=0.3.0->langchain_experimental) (0.16.0)\n",
      "Requirement already satisfied: mypy-extensions>=0.3.0 in i:\\programming projects\\langchain_crash_course\\restaurantnamegenerator\\myenv\\lib\\site-packages (from typing-inspect<1,>=0.4.0->dataclasses-json<0.7,>=0.5.7->langchain-community<0.4.0,>=0.3.0->langchain_experimental) (1.1.0)\n",
      "Requirement already satisfied: exceptiongroup>=1.0.2 in i:\\programming projects\\langchain_crash_course\\restaurantnamegenerator\\myenv\\lib\\site-packages (from anyio->httpx<1,>=0.23.0->langsmith>=0.1.125->langchain-community<0.4.0,>=0.3.0->langchain_experimental) (1.3.0)\n",
      "Requirement already satisfied: sniffio>=1.1 in i:\\programming projects\\langchain_crash_course\\restaurantnamegenerator\\myenv\\lib\\site-packages (from anyio->httpx<1,>=0.23.0->langsmith>=0.1.125->langchain-community<0.4.0,>=0.3.0->langchain_experimental) (1.3.1)\n",
      "Installing collected packages: langchain_experimental\n",
      "Successfully installed langchain_experimental-0.3.4\n"
     ]
    },
    {
     "name": "stderr",
     "output_type": "stream",
     "text": [
      "\n",
      "[notice] A new release of pip is available: 23.0.1 -> 25.1.1\n",
      "[notice] To update, run: python.exe -m pip install --upgrade pip\n"
     ]
    }
   ],
   "source": [
    "!pip install -U langchain_experimental"
   ]
  },
  {
   "cell_type": "code",
   "execution_count": 14,
   "id": "332ad575",
   "metadata": {},
   "outputs": [],
   "source": [
    "from langchain_experimental.openai_assistant import OpenAIAssistantRunnable\n",
    "\n",
    "interpreter_assistant = OpenAIAssistantRunnable.create_assistant(\n",
    "    name=\"langchain assistant\",\n",
    "    instructions=\"You are a personal math tutor. Write and run code to answer math questions.\",\n",
    "    tools=[{\"type\": \"code_interpreter\"}],\n",
    "    model=\"gpt-4-1106-preview\"\n",
    ")\n",
    "output = interpreter_assistant.invoke({\"content\": \"What's 10 - 4 raised to the 2.7\"})"
   ]
  },
  {
   "cell_type": "code",
   "execution_count": 16,
   "id": "f4db4605",
   "metadata": {},
   "outputs": [
    {
     "data": {
      "text/plain": [
       "[Message(id='msg_bkfpRW4LNy5PUEOUxXxxR8LB', assistant_id='asst_YHL01ASOGNDZVqKx7OWzSy89', attachments=[], completed_at=None, content=[TextContentBlock(text=Text(annotations=[], value='The result of \\\\( 10 - 4^{2.7} \\\\) is approximately \\\\(-32.22\\\\).'), type='text')], created_at=1751897789, incomplete_at=None, incomplete_details=None, metadata={}, object='thread.message', role='assistant', run_id='run_OS4XYi6Ev7ijy0tgZimJwyFy', status=None, thread_id='thread_lByPo5KPoVWehn2CZpZS3PV3')]"
      ]
     },
     "execution_count": 16,
     "metadata": {},
     "output_type": "execute_result"
    }
   ],
   "source": [
    "output"
   ]
  },
  {
   "cell_type": "code",
   "execution_count": 17,
   "id": "77dbea6b",
   "metadata": {},
   "outputs": [
    {
     "name": "stdout",
     "output_type": "stream",
     "text": [
      "HELLO WORLD\n"
     ]
    }
   ],
   "source": [
    "from langchain_core.runnables import RunnableLambda\n",
    "\n",
    "# A simple Runnable that uppercases input\n",
    "runnable = RunnableLambda(lambda x: x.upper())\n",
    "\n",
    "output = runnable.invoke(\"hello world\")\n",
    "print(output)  # HELLO WORLD"
   ]
  },
  {
   "cell_type": "code",
   "execution_count": 20,
   "id": "1000a1db",
   "metadata": {},
   "outputs": [
    {
     "name": "stdout",
     "output_type": "stream",
     "text": [
      "content='The capital of Germany is Berlin.' additional_kwargs={} response_metadata={'token_usage': {'completion_tokens': 7, 'prompt_tokens': 14, 'total_tokens': 21, 'completion_tokens_details': {'accepted_prediction_tokens': 0, 'audio_tokens': 0, 'reasoning_tokens': 0, 'rejected_prediction_tokens': 0}, 'prompt_tokens_details': {'audio_tokens': 0, 'cached_tokens': 0}}, 'model_name': 'gpt-3.5-turbo', 'system_fingerprint': None, 'finish_reason': 'stop', 'logprobs': None} id='run--96d43c61-d9cb-48b9-a697-a0364fce14ca-0'\n"
     ]
    }
   ],
   "source": [
    "from langchain.prompts import ChatPromptTemplate\n",
    "from langchain.chat_models import ChatOpenAI\n",
    "# from langchain.output_parsers import StrOutputParser\n",
    "\n",
    "prompt = ChatPromptTemplate.from_template(\"What is the capital of {country}?\")\n",
    "model = ChatOpenAI()\n",
    "# parser = StrOutputParser()\n",
    "\n",
    "chain = prompt | model   # This is a RunnableSequence\n",
    "\n",
    "print(chain.invoke({\"country\": \"Germany\"}))\n"
   ]
  },
  {
   "cell_type": "code",
   "execution_count": null,
   "id": "790e7baf",
   "metadata": {},
   "outputs": [],
   "source": []
  }
 ],
 "metadata": {
  "kernelspec": {
   "display_name": "myenv",
   "language": "python",
   "name": "python3"
  },
  "language_info": {
   "codemirror_mode": {
    "name": "ipython",
    "version": 3
   },
   "file_extension": ".py",
   "mimetype": "text/x-python",
   "name": "python",
   "nbconvert_exporter": "python",
   "pygments_lexer": "ipython3",
   "version": "3.10.11"
  }
 },
 "nbformat": 4,
 "nbformat_minor": 5
}
